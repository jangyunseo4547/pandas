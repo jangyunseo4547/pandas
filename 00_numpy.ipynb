{
 "cells": [
  {
   "cell_type": "markdown",
   "id": "58727465-8059-4792-b709-9dff96862e97",
   "metadata": {},
   "source": [
    "# 1. numpy\n",
    "\n",
    "- 1.1 `var_name = np.arange()` : numpy에서의 range => **실수 계산 가능**\n",
    "- 1.2` var_name = np.array()` : 배열 안 모든 데이터들이 통일됨. => **연산에 용이**\n",
    "- 1.3 `print(var_name.shape)` : 배열의 형태를 튜플로 반환 \n",
    "- 1.4 `print(var_name.dtype)` : int, float, complex등 **데이터 타입**을 알려줌."
   ]
  },
  {
   "cell_type": "markdown",
   "id": "fd17e5be-6b03-4818-861c-ab24b88522f1",
   "metadata": {},
   "source": [
    "### 1.1 np.arrange : 실수형태에서의 range 계산 가능"
   ]
  },
  {
   "cell_type": "code",
   "execution_count": 155,
   "id": "6fa1e7ee-5cfc-4189-b0c6-993215b46d87",
   "metadata": {},
   "outputs": [
    {
     "name": "stdout",
     "output_type": "stream",
     "text": [
      "2.89 ms ± 276 μs per loop (mean ± std. dev. of 7 runs, 100 loops each)\n"
     ]
    }
   ],
   "source": [
    "import numpy as np\n",
    "\n",
    "my_array = np.arange(1000000)\n",
    "\n",
    "%timeit my_array2 = my_array * 2  "
   ]
  },
  {
   "cell_type": "code",
   "execution_count": 156,
   "id": "e89087bb-ca47-4490-a100-1e9374d93f2a",
   "metadata": {},
   "outputs": [
    {
     "name": "stdout",
     "output_type": "stream",
     "text": [
      "57.8 ms ± 3.83 ms per loop (mean ± std. dev. of 7 runs, 10 loops each)\n"
     ]
    }
   ],
   "source": [
    "# 1-1-1. list complelation\n",
    "# %timeit 주피터에서 실행에 걸리는 시간 계산 \n",
    "\n",
    "my_list = list(range(1000000))\n",
    "\n",
    "%timeit my_list2 = [i * 2 for i in my_list] "
   ]
  },
  {
   "cell_type": "markdown",
   "id": "46b801a1-3080-4d14-acec-30dbf65d040d",
   "metadata": {},
   "source": [
    "### 1.2 np.array  : 배열 안 모든 데이터들이 통일됨."
   ]
  },
  {
   "cell_type": "code",
   "execution_count": 57,
   "id": "14a34f17-317d-4088-9312-e9d188d5f706",
   "metadata": {},
   "outputs": [
    {
     "name": "stdout",
     "output_type": "stream",
     "text": [
      "[[   1.     1.2    3. ]\n",
      " [-123.   123.     0. ]]\n"
     ]
    }
   ],
   "source": [
    "# 1.2 np.array  : 배열 안 모든 데이터들이 통일됨.\n",
    "\n",
    "a = [\n",
    "    [1,1.2,3],\n",
    "    [-123,123,0]\n",
    "]\n",
    "\n",
    "# 변수안에 넣기\n",
    "data= np.array(a)\n",
    "print(data)"
   ]
  },
  {
   "cell_type": "code",
   "execution_count": 12,
   "id": "6d9990d0-f9ce-4d43-b510-ac2831dde61f",
   "metadata": {},
   "outputs": [
    {
     "name": "stdout",
     "output_type": "stream",
     "text": [
      "[[  11.    11.2   13. ]\n",
      " [-113.   133.    10. ]]\n"
     ]
    }
   ],
   "source": [
    "# 0차원 : 스칼라 (단일 데이터로 곱셈을 했을때 같은 배열로)\n",
    "# 1차원 : 벡터 \n",
    "# 2차원 : 메트릭스(행렬) \n",
    "# 3차원: 텐서\n",
    "\n",
    "#print(data * 10)\n",
    "\n",
    "print(data + 10) #concatenation으로 연산"
   ]
  },
  {
   "cell_type": "markdown",
   "id": "1e2bfa99-948e-44f1-a153-c95244741120",
   "metadata": {},
   "source": [
    "### 1.3 print(var_name.shape) : 배열의 형태를 튜플로 반환 => 몇차원의 배열인지\n",
    "### 1.4 print(var_name.dtype) : int, float, complex등 데이터 타입을 알려줌."
   ]
  },
  {
   "cell_type": "code",
   "execution_count": 13,
   "id": "b601b161-0b26-4eda-8e99-3cc66bf6a936",
   "metadata": {},
   "outputs": [
    {
     "name": "stdout",
     "output_type": "stream",
     "text": [
      "(2, 3)\n",
      "float64\n"
     ]
    }
   ],
   "source": [
    "# shape : 2 * 3의 2차원 배열 (배열의 형태를 튜플로 반환)\n",
    "print(data.shape)\n",
    "\n",
    "# dtype : data의 세부 데이터에 대한 내용 (실수라는 정보 전달) / bit가 길면 길수록 넓은 범위로 쓸 수 있음.\n",
    "print(data.dtype)"
   ]
  },
  {
   "cell_type": "markdown",
   "id": "f82df836-5350-409e-af01-2233e0aaba25",
   "metadata": {},
   "source": [
    "# 2. ndarray 생성하기\n",
    "- 파이썬의 list와 유사 (차이점 : 콤마(,) 사용 인덱싱, 슬라이싱 가능)\n",
    "    - 2.1 `print(var_name.ndim)` : 배열의 차원 수 or 배열의 축 수 => 몇 차원\n",
    "    - 2.2 `print(var_name.shape)` : . n행과 m열의 행렬의 경우 (n,m) 형태의 튜플로 반환\n",
    "    - 2.3 `np.zeros(()) == np.empty(())` : ndarray에서 0의 배열 만들기"
   ]
  },
  {
   "cell_type": "code",
   "execution_count": 165,
   "id": "64ed6964-7b80-4ce1-84c9-6d5069a957b2",
   "metadata": {},
   "outputs": [
    {
     "name": "stdout",
     "output_type": "stream",
     "text": [
      "[1 2 3 4 5]\n",
      "<class 'numpy.ndarray'>\n"
     ]
    }
   ],
   "source": [
    "# 1) \n",
    "data1 = [1,2,3,4,5]\n",
    "arr1 = np.array(data1)\n",
    "#arr1\n",
    "print(arr1)\n",
    "print(type(arr1))"
   ]
  },
  {
   "cell_type": "code",
   "execution_count": 20,
   "id": "d4c41a52-51a5-4e03-b363-426e71c15822",
   "metadata": {},
   "outputs": [
    {
     "name": "stdout",
     "output_type": "stream",
     "text": [
      "[[1.1 2.2]\n",
      " [3.3 4.4]]\n",
      "<class 'numpy.ndarray'>\n"
     ]
    }
   ],
   "source": [
    "# 2) ndarray : 콤마, 인덱싱 사용 가능\n",
    "arr2 = np.array([[1.1, 2.2],[3.3, 4.4]])\n",
    "print(arr2)\n",
    "print(type(arr2))"
   ]
  },
  {
   "cell_type": "code",
   "execution_count": 167,
   "id": "e6807ee1-81ae-4feb-a947-efd7708d8393",
   "metadata": {},
   "outputs": [
    {
     "name": "stdout",
     "output_type": "stream",
     "text": [
      "[[1.1 2.2]\n",
      " [3.3 4.4]]\n",
      "<class 'numpy.ndarray'>\n"
     ]
    }
   ],
   "source": [
    "data2 = [[1.1,2.2],[3.3,4.4]]\n",
    "arr2 = np.array(data2)\n",
    "print(arr2)\n",
    "print(type(arr2))"
   ]
  },
  {
   "cell_type": "code",
   "execution_count": 22,
   "id": "1c62ab36-14f6-44c6-a96c-2aa5316b140c",
   "metadata": {},
   "outputs": [
    {
     "name": "stdout",
     "output_type": "stream",
     "text": [
      "1\n",
      "2\n",
      "(5,)\n",
      "(2, 2)\n"
     ]
    }
   ],
   "source": [
    "# 2.1 print(var_name.ndim) : 배열의 차원 수 or 배열의 축 수\n",
    "\n",
    "print(arr1.ndim)\n",
    "print(arr2.ndim)\n",
    "\n",
    "# 2.2 print(var_name.shape) : . n행과 m열의 행렬의 경우 (n,m) 형태의 튜플로 반환\n",
    "\n",
    "print(arr1.shape)\n",
    "print(arr2.shape)"
   ]
  },
  {
   "cell_type": "code",
   "execution_count": 177,
   "id": "bfbdecf2-d577-4c40-8381-64e6b86729d2",
   "metadata": {},
   "outputs": [
    {
     "name": "stdout",
     "output_type": "stream",
     "text": [
      "[0. 0. 0. 0. 0. 0. 0. 0. 0. 0.]\n",
      "[[0. 0. 0. 0. 0.]\n",
      " [0. 0. 0. 0. 0.]\n",
      " [0. 0. 0. 0. 0.]\n",
      " [0. 0. 0. 0. 0.]\n",
      " [0. 0. 0. 0. 0.]]\n",
      "[[[0. 0.]\n",
      "  [0. 0.]]\n",
      "\n",
      " [[0. 0.]\n",
      "  [0. 0.]]]\n"
     ]
    }
   ],
   "source": [
    "# 2.3 ndarray에서 0의 배열 만들기 : np.zeros(()) == np.empty(())\n",
    "\n",
    "print(np.zeros(10)) #print([0] * 10)\n",
    "\n",
    "print(np.zeros((5,5))) # 5 * 5 shape으로 0의 배열을 만들어줌.\n",
    "\n",
    "print(np.zeros((2,2,2)))"
   ]
  },
  {
   "cell_type": "code",
   "execution_count": 174,
   "id": "7cc461e7-870c-468f-8a40-e83dbc017e56",
   "metadata": {},
   "outputs": [
    {
     "name": "stdout",
     "output_type": "stream",
     "text": [
      "3\n"
     ]
    }
   ],
   "source": [
    "a = np.empty((2,2,2)) # 2 * 3 shape으로 0의 배열을 만들어줌. (2개의 배열과 2개의 행 2개의 열로 되어 있음.)\n",
    "\n",
    "print(a.ndim)"
   ]
  },
  {
   "cell_type": "code",
   "execution_count": 32,
   "id": "d3c36f15-d9ef-4e9b-8e53-0eb16a2b0cfe",
   "metadata": {},
   "outputs": [
    {
     "name": "stdout",
     "output_type": "stream",
     "text": [
      "[0 1 2 3 4 5 6 7 8 9]\n"
     ]
    }
   ],
   "source": [
    "print(np.arange(0,10))"
   ]
  },
  {
   "cell_type": "markdown",
   "id": "d3b678b4-058a-4039-9230-43442cd734d4",
   "metadata": {},
   "source": [
    "# 3. ndarray 자료형\n",
    "- 3.1 `var_name = np.array(dtype = np.int64)` => int64로 데이터 타입 변경 : 데이터 타입 직접 변경\n",
    "   - 3.1.1 `var_name.astype(np.int64)` : 형변환하는 함수 이용 "
   ]
  },
  {
   "cell_type": "code",
   "execution_count": 180,
   "id": "fad889bc-54d7-46ea-be24-294957cf1970",
   "metadata": {},
   "outputs": [
    {
     "name": "stdout",
     "output_type": "stream",
     "text": [
      "float64\n",
      "int32\n"
     ]
    }
   ],
   "source": [
    "# 3-1 dtype 확인\n",
    "arr1 = np.array([1,2,3], dtype = np.float64)\n",
    "arr2 = np.array([1,2,3], dtype = np.int32)\n",
    "\n",
    "print(arr1.dtype)\n",
    "print(arr2.dtype)"
   ]
  },
  {
   "cell_type": "code",
   "execution_count": 38,
   "id": "8cf45dbd-74bc-474b-84af-efd1c0276381",
   "metadata": {},
   "outputs": [
    {
     "name": "stdout",
     "output_type": "stream",
     "text": [
      "int64\n",
      "[1. 2. 3.]\n",
      "float64\n"
     ]
    }
   ],
   "source": [
    "arr1 = np.array([1,2,3]) #ndim : 1차원, shape (,3) 튜플로 반환\n",
    "print(arr1.dtype)\n",
    "\n",
    "# 3-2 astype() : 형변환하는 내장함수\n",
    "float_arr1 = arr1.astype(np.float64)\n",
    "print(float_arr1)\n",
    "print(float_arr1.dtype)"
   ]
  },
  {
   "cell_type": "code",
   "execution_count": 39,
   "id": "3a90df99-d329-4248-88a6-b58ccb89a2d5",
   "metadata": {},
   "outputs": [
    {
     "name": "stdout",
     "output_type": "stream",
     "text": [
      "float64\n",
      "[1.1 2.2 3.3]\n",
      "float64\n"
     ]
    }
   ],
   "source": [
    "arr2 = np.array([1.1,2.2,3.3])\n",
    "print(arr2.dtype)\n",
    "\n",
    "int_arr2 = arr2.astype(np.int64)\n",
    "print(arr2)\n",
    "print(arr2.dtype)"
   ]
  },
  {
   "cell_type": "markdown",
   "id": "c2278c26-d346-434d-8eef-f5802cd82735",
   "metadata": {},
   "source": [
    "# 4. 연산\n",
    "- 산술 연산 : 같은 위치에 있는 숫자끼리 (+ - * /) \n",
    "- 비교 연산 : True or False 값으로 비교 결과 나타남."
   ]
  },
  {
   "cell_type": "code",
   "execution_count": 191,
   "id": "69f13beb-5ce8-454e-847b-63809394db8d",
   "metadata": {},
   "outputs": [
    {
     "name": "stdout",
     "output_type": "stream",
     "text": [
      "[[1 2 3]\n",
      " [4 5 6]]\n",
      "[[ 1  4  9]\n",
      " [16 25 36]]\n",
      "[[ 2  4  6]\n",
      " [ 8 10 12]]\n",
      "[[1.         0.5        0.33333333]\n",
      " [0.25       0.2        0.16666667]]\n",
      "[[  1   8  27]\n",
      " [ 64 125 216]]\n"
     ]
    }
   ],
   "source": [
    "arr = np.array(([1,2,3],[4,5,6])) # ndim : 2차원, shape (2,3) 행열 \n",
    "print(arr)\n",
    "\n",
    "# 4. 산술연산\n",
    "# 4-1 곱셈 : 같은 위치에 있는 숫자끼리 곱\n",
    "print(arr * arr) \n",
    "\n",
    "# 4-2 뎃셈 : \n",
    "print(arr + arr)\n",
    "\n",
    "# 4-3 나누기\n",
    "print(1 /arr)\n",
    "\n",
    "# 4-4 제곱\n",
    "print(arr ** 3)"
   ]
  },
  {
   "cell_type": "code",
   "execution_count": 190,
   "id": "c6c50288-ce1f-4e21-ab51-5ec5c24706e1",
   "metadata": {},
   "outputs": [
    {
     "name": "stdout",
     "output_type": "stream",
     "text": [
      "[[1 2 3]\n",
      " [4 5 6]]\n",
      "[[3 2 1]\n",
      " [1 2 3]]\n",
      "[[False False  True]\n",
      " [ True  True  True]]\n",
      "[[False False  True]\n",
      " [False False False]]\n"
     ]
    }
   ],
   "source": [
    "# 4-5 비교 연산 (각각의 위치를 비교)\n",
    "\n",
    "arr2 = np.array([[3,2,1],[1,2,3]])\n",
    "\n",
    "# print(arr2.ndim) #2차원\n",
    "# print(arr2.shape) #(2,3) 행렬\n",
    "\n",
    "print(arr)\n",
    "print(arr2)\n",
    "\n",
    "print(arr > arr2)\n",
    "print(arr == 3)"
   ]
  },
  {
   "cell_type": "markdown",
   "id": "b9355a51-be0f-4d0a-86bc-b00000a829db",
   "metadata": {},
   "source": [
    "# 5. 색인(인덱싱)과 슬라이싱\n",
    "- 원하는 값을 뽑아내거나 범위를 지정하여 뽑아내고 싶을때\n",
    "    - 5.1 인덱싱 :\n",
    "        - 1차원 : arr[5]\n",
    "        - 2차원 : arr[1][1] == arr[1,1]\n",
    "        - 3차원 : arr[1][1][1] == arr[1,1,1]\n",
    "    - 5.2 numpy의 슬라이싱: 원하는 위치의 데이터를 바꿈 => 원본까지 데이터가 바뀜.\n",
    "        - 슬라이싱으로 인덱싱 : ex) arr3d[0, 1: ,2:] => 0인덱스의 1,2번째의 2번째 데이터들"
   ]
  },
  {
   "cell_type": "code",
   "execution_count": 193,
   "id": "52988f45-57e8-427e-bbcc-443bba51c2db",
   "metadata": {},
   "outputs": [
    {
     "name": "stdout",
     "output_type": "stream",
     "text": [
      "[0 1 2 3 4 5 6 7 8 9]\n"
     ]
    }
   ],
   "source": [
    "arr = np.arange(10)\n",
    "print(arr)"
   ]
  },
  {
   "cell_type": "code",
   "execution_count": 194,
   "id": "3ac6595e-4c75-4a43-8fb6-1ac7526506b4",
   "metadata": {},
   "outputs": [
    {
     "name": "stdout",
     "output_type": "stream",
     "text": [
      "7\n",
      "[2 3 4]\n"
     ]
    }
   ],
   "source": [
    "print(arr[7])\n",
    "\n",
    "print(arr[2:5])"
   ]
  },
  {
   "cell_type": "code",
   "execution_count": 69,
   "id": "278828d4-92c6-4c24-be1f-ae5151708a5e",
   "metadata": {},
   "outputs": [
    {
     "name": "stdout",
     "output_type": "stream",
     "text": [
      "[ 0  1 10 10 10  5  6  7  8  9]\n"
     ]
    }
   ],
   "source": [
    "# 4-2-1 numpy에서의 슬라이싱 : 슬라이싱해서 그 위치의데이터를 바꿀 수 있음. (원본까지 바뀜)\n",
    "\n",
    "arr[2:5] = 10\n",
    "print(arr)"
   ]
  },
  {
   "cell_type": "code",
   "execution_count": 72,
   "id": "a1b35203-a246-47ce-819e-4fff3bcbc380",
   "metadata": {},
   "outputs": [
    {
     "name": "stdout",
     "output_type": "stream",
     "text": [
      "[1, 2, 3, 4, 5]\n"
     ]
    }
   ],
   "source": [
    "# 4-2-2 python에서의 슬라이싱 : 팝을 해도 원본은 바뀌지 않음. \n",
    "\n",
    "py_list = [1,2,3,4,5]\n",
    "py_list[2:3].pop\n",
    "print(py_list)"
   ]
  },
  {
   "cell_type": "code",
   "execution_count": 196,
   "id": "af8663ec-0713-442c-8a64-78eef5edb6ee",
   "metadata": {},
   "outputs": [
    {
     "name": "stdout",
     "output_type": "stream",
     "text": [
      "[[1 2 3]\n",
      " [4 5 6]]\n"
     ]
    }
   ],
   "source": [
    "# 4-1-1 2차원에서의 인덱싱\n",
    "\n",
    "arr = np.array([[1,2,3],[4,5,6]])\n",
    "# print(arr.ndim)\n",
    "# print(arr.shape)\n",
    "print(arr)"
   ]
  },
  {
   "cell_type": "code",
   "execution_count": 197,
   "id": "5b344e10-104b-458d-9286-ab286379ee48",
   "metadata": {},
   "outputs": [
    {
     "name": "stdout",
     "output_type": "stream",
     "text": [
      "1\n",
      "6\n"
     ]
    }
   ],
   "source": [
    "print(arr[0][0])\n",
    "print(arr[1,2])"
   ]
  },
  {
   "cell_type": "code",
   "execution_count": 199,
   "id": "d9c67119-21ea-42d8-a8b8-d72f8b66af9c",
   "metadata": {},
   "outputs": [
    {
     "name": "stdout",
     "output_type": "stream",
     "text": [
      "[[[ 1  2  3]\n",
      "  [ 4  5  6]\n",
      "  [ 7  8  9]]\n",
      "\n",
      " [[11 12 13]\n",
      "  [14 15 16]\n",
      "  [17 18 19]]\n",
      "\n",
      " [[11 22 33]\n",
      "  [44 55 66]\n",
      "  [77 88 99]]]\n"
     ]
    }
   ],
   "source": [
    "# 4-1-2 3차원에서의 인덱싱\n",
    "\n",
    "arr3d = np.array([[[1,2,3],[4,5,6],[7,8,9]], \n",
    "         [[11,12,13],[14,15,16],[17,18,19]], \n",
    "         [[11,22,33],[44,55,66],[77,88,99]]])\n",
    "\n",
    "# print(arr3d.ndim)\n",
    "# print(arr3d.shape)\n",
    "\n",
    "print(arr3d)"
   ]
  },
  {
   "cell_type": "code",
   "execution_count": 82,
   "id": "0a2a4773-0065-42b8-a97c-ae787eb784dc",
   "metadata": {},
   "outputs": [
    {
     "name": "stdout",
     "output_type": "stream",
     "text": [
      "22\n",
      "22\n"
     ]
    }
   ],
   "source": [
    "print(arr3d[2][0][1])\n",
    "print(arr3d[2,0,1])"
   ]
  },
  {
   "cell_type": "code",
   "execution_count": 86,
   "id": "4509ba1b-8c93-49b6-9bc2-4706d10e5fbf",
   "metadata": {},
   "outputs": [
    {
     "data": {
      "text/plain": [
       "array([[6],\n",
       "       [9]])"
      ]
     },
     "execution_count": 86,
     "metadata": {},
     "output_type": "execute_result"
    }
   ],
   "source": [
    "arr3d[0, 1: ,2:] #범위를 나타낸다는 점!"
   ]
  },
  {
   "cell_type": "code",
   "execution_count": 87,
   "id": "db28d985-9a38-48c5-b65d-2edb0da2e0b6",
   "metadata": {},
   "outputs": [
    {
     "name": "stdout",
     "output_type": "stream",
     "text": [
      "[[[   1    2    3]\n",
      "  [   4    5 9999]\n",
      "  [   7    8 9999]]\n",
      "\n",
      " [[  11   12   13]\n",
      "  [  14   15   16]\n",
      "  [  17   18   19]]\n",
      "\n",
      " [[  11   22   33]\n",
      "  [  44   55   66]\n",
      "  [  77   88   99]]]\n"
     ]
    }
   ],
   "source": [
    "arr3d[0, 1: ,2:] = 9999\n",
    "print(arr3d)"
   ]
  },
  {
   "cell_type": "markdown",
   "id": "68acd554-dd59-4208-849d-6c86454d0b39",
   "metadata": {},
   "source": [
    "# 6. boolean 값으로 선택\n",
    "- 특정 조건에 맞는 데이터를 골라낼때 불리언값 활용\n",
    "    - 1) var_name == '문자' : boolean으로 알려줌 (true or false)\n",
    "    - 2) key or value값에 접근 : indexing or slicing\n",
    "        - `print(data[names == 'hong',1]) => 1인덱스 출력`\n",
    "        - `print(data[names == 'hong', :1]) => 슬라이싱 0인덱스까지`       \n",
    "    - 3) condition : 변수에 저장해서 접근\n",
    "         - `cond = names == 'hong'`\n",
    "         - `data[cond]`"
   ]
  },
  {
   "cell_type": "code",
   "execution_count": 202,
   "id": "4a476215-198a-4abe-b26e-ac277c2a1afb",
   "metadata": {},
   "outputs": [
    {
     "name": "stdout",
     "output_type": "stream",
     "text": [
      "(4, 2)\n",
      "2\n",
      "[['math' '60']\n",
      " ['math' '90']\n",
      " ['eng' '70']\n",
      " ['eng' '50']]\n"
     ]
    }
   ],
   "source": [
    "names = np.array(['hong','kim','hong','kim'])\n",
    "\n",
    "data = np.array([['math', 60],['math', 90],['eng', 70],['eng', 50]])\n",
    "\n",
    "# print(data.shape)\n",
    "# print(data.ndim)\n",
    "# print(data)"
   ]
  },
  {
   "cell_type": "code",
   "execution_count": 90,
   "id": "c39b27f2-0d2f-4482-9a82-0423be24d445",
   "metadata": {},
   "outputs": [
    {
     "data": {
      "text/plain": [
       "array([ True, False,  True, False])"
      ]
     },
     "execution_count": 90,
     "metadata": {},
     "output_type": "execute_result"
    }
   ],
   "source": [
    "# 5-1 == bloolean 값으로 알려줌.\n",
    "\n",
    "names == 'hong'"
   ]
  },
  {
   "cell_type": "code",
   "execution_count": 92,
   "id": "15bd2580-9a61-46be-8b31-1cb5a6813ea0",
   "metadata": {},
   "outputs": [
    {
     "data": {
      "text/plain": [
       "array([['math', '60'],\n",
       "       ['eng', '70']], dtype='<U21')"
      ]
     },
     "execution_count": 92,
     "metadata": {},
     "output_type": "execute_result"
    }
   ],
   "source": [
    "# data[[True, False, True, False]]\n",
    "data[names == 'hong']"
   ]
  },
  {
   "cell_type": "code",
   "execution_count": 98,
   "id": "a0d3d8fb-6232-44a1-b107-8554d5d340c4",
   "metadata": {},
   "outputs": [
    {
     "name": "stdout",
     "output_type": "stream",
     "text": [
      "['60' '70']\n",
      "[['math']\n",
      " ['eng']]\n"
     ]
    }
   ],
   "source": [
    "# key or value값에 접근 : indexing or slicing\n",
    "\n",
    "print(data[names == 'hong',1]) #1차원\n",
    "print(data[names == 'hong', :1]) #2차원"
   ]
  },
  {
   "cell_type": "code",
   "execution_count": 100,
   "id": "b1953848-0006-430c-be9e-2fa623128bcf",
   "metadata": {},
   "outputs": [
    {
     "name": "stdout",
     "output_type": "stream",
     "text": [
      "[False  True False  True]\n",
      "[False  True False  True]\n"
     ]
    }
   ],
   "source": [
    "# condition : 변수에 저장해서 접근\n",
    "\n",
    "print(names != 'hong') \n",
    "print(~(names == 'hong')) "
   ]
  },
  {
   "cell_type": "code",
   "execution_count": 203,
   "id": "d3f35804-c399-4a7f-b662-44fc4ea11118",
   "metadata": {},
   "outputs": [
    {
     "data": {
      "text/plain": [
       "array([['math', '90'],\n",
       "       ['eng', '50']], dtype='<U21')"
      ]
     },
     "execution_count": 203,
     "metadata": {},
     "output_type": "execute_result"
    }
   ],
   "source": [
    "cond = names == 'kim'\n",
    "data[cond]"
   ]
  },
  {
   "cell_type": "code",
   "execution_count": 204,
   "id": "b0fad717-1e82-4a36-9428-05c7de04e0da",
   "metadata": {},
   "outputs": [
    {
     "data": {
      "text/plain": [
       "array([['math', '60'],\n",
       "       ['eng', '70']], dtype='<U21')"
      ]
     },
     "execution_count": 204,
     "metadata": {},
     "output_type": "execute_result"
    }
   ],
   "source": [
    "cond = names == 'hong'\n",
    "data[cond]"
   ]
  },
  {
   "cell_type": "markdown",
   "id": "c078311e-cd6e-494c-a240-b73443de991d",
   "metadata": {},
   "source": [
    "# 7. 팬시 인덱싱"
   ]
  },
  {
   "cell_type": "code",
   "execution_count": 205,
   "id": "19602bf9-c015-44f6-95c1-0287298d9acd",
   "metadata": {},
   "outputs": [
    {
     "name": "stdout",
     "output_type": "stream",
     "text": [
      "[[0. 0. 0. 0.]\n",
      " [1. 1. 1. 1.]\n",
      " [2. 2. 2. 2.]\n",
      " [3. 3. 3. 3.]\n",
      " [4. 4. 4. 4.]\n",
      " [5. 5. 5. 5.]\n",
      " [6. 6. 6. 6.]\n",
      " [7. 7. 7. 7.]]\n"
     ]
    }
   ],
   "source": [
    "arr = np.zeros((8,4))\n",
    "\n",
    "for i in range(8):\n",
    "    arr[i] = i #행의 줄을 i로 바꿈\n",
    "print(arr)"
   ]
  },
  {
   "cell_type": "code",
   "execution_count": 132,
   "id": "2db1438b-ac60-4c4a-bc18-687629bfd9d6",
   "metadata": {},
   "outputs": [
    {
     "data": {
      "text/plain": [
       "array([[4., 4., 4., 4.],\n",
       "       [3., 3., 3., 3.],\n",
       "       [0., 0., 0., 0.],\n",
       "       [5., 5., 5., 5.]])"
      ]
     },
     "execution_count": 132,
     "metadata": {},
     "output_type": "execute_result"
    }
   ],
   "source": [
    "# 6-1 팬시 인덱싱 : 원하는 행을 직접적으로 고를 수 있게끔 / 순서도 마음대로 가능\n",
    "# 선언 : 리스트 안에 리스트 [[]]\n",
    "\n",
    "arr[[4,3,0,5]]"
   ]
  },
  {
   "cell_type": "code",
   "execution_count": 110,
   "id": "0deea988-7ec1-4ab7-966a-d15c74550a96",
   "metadata": {},
   "outputs": [
    {
     "data": {
      "text/plain": [
       "array([[5., 5., 5., 5.],\n",
       "       [7., 7., 7., 7.],\n",
       "       [3., 3., 3., 3.]])"
      ]
     },
     "execution_count": 110,
     "metadata": {},
     "output_type": "execute_result"
    }
   ],
   "source": [
    "arr[[-3, -1, -5]]"
   ]
  },
  {
   "cell_type": "code",
   "execution_count": 139,
   "id": "09e19322-959c-41f3-b6d0-e6586a4e2497",
   "metadata": {},
   "outputs": [
    {
     "name": "stdout",
     "output_type": "stream",
     "text": [
      "[[ 0  1  2  3]\n",
      " [ 4  5  6  7]\n",
      " [ 8  9 10 11]\n",
      " [12 13 14 15]\n",
      " [16 17 18 19]\n",
      " [20 21 22 23]\n",
      " [24 25 26 27]\n",
      " [28 29 30 31]]\n"
     ]
    }
   ],
   "source": [
    "arr = np.arange(32).reshape(8,4) # reshape : 배열을 변경할 때 사용 (1,31) -> (8,4) 바꿔줌\n",
    "print(arr)"
   ]
  },
  {
   "cell_type": "code",
   "execution_count": 142,
   "id": "53914dc8-9539-4bbb-b4da-8ba73e6c9c27",
   "metadata": {},
   "outputs": [
    {
     "name": "stdout",
     "output_type": "stream",
     "text": [
      "[ 6 23]\n"
     ]
    }
   ],
   "source": [
    "print(arr[[1, 5], [2, 3]])"
   ]
  },
  {
   "cell_type": "code",
   "execution_count": 144,
   "id": "313dd0b4-c57e-4519-828a-f3fb78ad7886",
   "metadata": {},
   "outputs": [
    {
     "data": {
      "text/plain": [
       "array([[ 6,  7],\n",
       "       [22, 23]])"
      ]
     },
     "execution_count": 144,
     "metadata": {},
     "output_type": "execute_result"
    }
   ],
   "source": [
    "arr[ [1, 5] ]  [:, [2, 3] ]"
   ]
  },
  {
   "cell_type": "markdown",
   "id": "cbbfdd85-79c2-4a55-b1e4-e8447b0308da",
   "metadata": {},
   "source": [
    "# 8. 배열 전치 \n",
    "- 배열의 축을 바꾸는 것\n",
    "- 선언 :\n",
    "- 접근 :"
   ]
  },
  {
   "cell_type": "code",
   "execution_count": 122,
   "id": "03b996e0-f991-43a2-a1d2-f3d86a7fd259",
   "metadata": {},
   "outputs": [
    {
     "name": "stdout",
     "output_type": "stream",
     "text": [
      "[[ 0  1  2  3  4]\n",
      " [ 5  6  7  8  9]\n",
      " [10 11 12 13 14]]\n"
     ]
    }
   ],
   "source": [
    "arr = np.arange(15).reshape(3,5)\n",
    "print(arr)"
   ]
  },
  {
   "cell_type": "code",
   "execution_count": 124,
   "id": "e8636157-6a67-494e-9fb3-e279c8f0a83e",
   "metadata": {},
   "outputs": [
    {
     "name": "stdout",
     "output_type": "stream",
     "text": [
      "[[ 0  5 10]\n",
      " [ 1  6 11]\n",
      " [ 2  7 12]\n",
      " [ 3  8 13]\n",
      " [ 4  9 14]]\n"
     ]
    }
   ],
   "source": [
    "# 7-1 배열 전치 : X축과 y축이 바뀜 => 행렬의 곱셈 가능\n",
    "print(arr.T)"
   ]
  },
  {
   "cell_type": "code",
   "execution_count": 127,
   "id": "0d0e2ec9-8bdc-4bac-a0e7-fdcf09cc656d",
   "metadata": {},
   "outputs": [
    {
     "name": "stdout",
     "output_type": "stream",
     "text": [
      "[[ 30  80 130]\n",
      " [ 80 255 430]\n",
      " [130 430 730]]\n"
     ]
    }
   ],
   "source": [
    "# 7-2 행렬에서의 곱 (행렬의 내적)\n",
    "\n",
    "arr @ arr.T\n",
    "\n",
    "print(np.dot(arr, arr.T))"
   ]
  },
  {
   "cell_type": "markdown",
   "id": "9005e8ad-3f39-4e16-804c-a1ea30149a33",
   "metadata": {},
   "source": [
    "# 9. numpy 함수"
   ]
  },
  {
   "cell_type": "code",
   "execution_count": 146,
   "id": "ce8c9d56-dfd9-4e9b-9be2-018f8b52190d",
   "metadata": {},
   "outputs": [
    {
     "name": "stdout",
     "output_type": "stream",
     "text": [
      "[[-1.34493883  1.31258162 -0.57365478]\n",
      " [-0.2952962  -0.25816627  0.25678137]\n",
      " [-2.41521699 -1.04398147  0.44255559]]\n"
     ]
    }
   ],
   "source": [
    "# 8-1\n",
    "\n",
    "samples = np.random.standard_normal(size = (3,3))\n",
    "print(samples)"
   ]
  },
  {
   "cell_type": "code",
   "execution_count": 148,
   "id": "f5e438eb-aed8-4eeb-a531-86122214c904",
   "metadata": {},
   "outputs": [
    {
     "name": "stdout",
     "output_type": "stream",
     "text": [
      "[[       nan 1.14567955        nan]\n",
      " [       nan        nan 0.506736  ]\n",
      " [       nan        nan 0.66524852]]\n"
     ]
    },
    {
     "name": "stderr",
     "output_type": "stream",
     "text": [
      "C:\\Users\\1-17\\AppData\\Local\\Temp\\ipykernel_1816\\3151002730.py:3: RuntimeWarning: invalid value encountered in sqrt\n",
      "  arr1 = np.sqrt(samples)\n"
     ]
    }
   ],
   "source": [
    "# 8-2\n",
    "\n",
    "# nan : 숫자가 아니라는 뜻 (음수는 루트를 씌울 수 없으니)\n",
    "\n",
    "arr1 = np.sqrt(samples) # np.sqrt (루트)\n",
    "print(arr1)"
   ]
  },
  {
   "cell_type": "code",
   "execution_count": 149,
   "id": "0b05ed16-4a5b-4edb-bff6-ea9f65a22eaa",
   "metadata": {},
   "outputs": [
    {
     "name": "stdout",
     "output_type": "stream",
     "text": [
      "[[1.34493883 1.31258162 0.57365478]\n",
      " [0.2952962  0.25816627 0.25678137]\n",
      " [2.41521699 1.04398147 0.44255559]]\n"
     ]
    }
   ],
   "source": [
    "arr2 = np.abs(samples) #abs : 절대함수로 바꿔주는 함수 (음수 -> 양수)\n",
    "print(arr2)"
   ]
  },
  {
   "cell_type": "code",
   "execution_count": 150,
   "id": "af708b27-c8b8-4401-b407-ab73eb039749",
   "metadata": {},
   "outputs": [
    {
     "data": {
      "text/plain": [
       "array([[ True, False,  True],\n",
       "       [ True,  True, False],\n",
       "       [ True,  True, False]])"
      ]
     },
     "execution_count": 150,
     "metadata": {},
     "output_type": "execute_result"
    }
   ],
   "source": [
    "# 8-4 isnan : true or false 값으로 어디가 nan인지 알려줌.\n",
    "\n",
    "np.isnan(arr1)"
   ]
  },
  {
   "cell_type": "code",
   "execution_count": null,
   "id": "61f272d6-a9af-4228-86c2-74d1bb661bfe",
   "metadata": {},
   "outputs": [],
   "source": []
  }
 ],
 "metadata": {
  "kernelspec": {
   "display_name": "Python 3 (ipykernel)",
   "language": "python",
   "name": "python3"
  },
  "language_info": {
   "codemirror_mode": {
    "name": "ipython",
    "version": 3
   },
   "file_extension": ".py",
   "mimetype": "text/x-python",
   "name": "python",
   "nbconvert_exporter": "python",
   "pygments_lexer": "ipython3",
   "version": "3.13.2"
  }
 },
 "nbformat": 4,
 "nbformat_minor": 5
}
